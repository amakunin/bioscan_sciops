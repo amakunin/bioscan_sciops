{
 "cells": [
  {
   "cell_type": "code",
   "execution_count": 1,
   "id": "7d6ad72a",
   "metadata": {},
   "outputs": [],
   "source": [
    "import pandas as pd"
   ]
  },
  {
   "cell_type": "code",
   "execution_count": 2,
   "id": "c524dc64",
   "metadata": {},
   "outputs": [
    {
     "data": {
      "text/html": [
       "<div>\n",
       "<style scoped>\n",
       "    .dataframe tbody tr th:only-of-type {\n",
       "        vertical-align: middle;\n",
       "    }\n",
       "\n",
       "    .dataframe tbody tr th {\n",
       "        vertical-align: top;\n",
       "    }\n",
       "\n",
       "    .dataframe thead th {\n",
       "        text-align: right;\n",
       "    }\n",
       "</style>\n",
       "<table border=\"1\" class=\"dataframe\">\n",
       "  <thead>\n",
       "    <tr style=\"text-align: right;\">\n",
       "      <th></th>\n",
       "      <th>RETENTION INSTRUCTION</th>\n",
       "      <th>COHORT</th>\n",
       "      <th>COUNTRY OF ORIGIN</th>\n",
       "      <th>DATE OF SAMPLE COLLECTION</th>\n",
       "      <th>TAXON ID</th>\n",
       "      <th>COMMON NAME</th>\n",
       "      <th>SAMPLE DESCRIPTION</th>\n",
       "      <th>BIOSCAN CONTROL TYPE</th>\n",
       "    </tr>\n",
       "    <tr>\n",
       "      <th>BIOSCAN SUPPLIER SAMPLE NAME</th>\n",
       "      <th></th>\n",
       "      <th></th>\n",
       "      <th></th>\n",
       "      <th></th>\n",
       "      <th></th>\n",
       "      <th></th>\n",
       "      <th></th>\n",
       "      <th></th>\n",
       "    </tr>\n",
       "  </thead>\n",
       "  <tbody>\n",
       "    <tr>\n",
       "      <th>CAMP_075_A1</th>\n",
       "      <td>Return to customer after 2 years</td>\n",
       "      <td>CAMP</td>\n",
       "      <td>United Kingdom</td>\n",
       "      <td>2024</td>\n",
       "      <td>32644</td>\n",
       "      <td>unidentified</td>\n",
       "      <td>CAMP_075</td>\n",
       "      <td>NaN</td>\n",
       "    </tr>\n",
       "  </tbody>\n",
       "</table>\n",
       "</div>"
      ],
      "text/plain": [
       "                                         RETENTION INSTRUCTION COHORT   \n",
       "BIOSCAN SUPPLIER SAMPLE NAME                                            \n",
       "CAMP_075_A1                   Return to customer after 2 years   CAMP  \\\n",
       "\n",
       "                             COUNTRY OF ORIGIN  DATE OF SAMPLE COLLECTION   \n",
       "BIOSCAN SUPPLIER SAMPLE NAME                                                \n",
       "CAMP_075_A1                     United Kingdom                       2024  \\\n",
       "\n",
       "                              TAXON ID   COMMON NAME SAMPLE DESCRIPTION   \n",
       "BIOSCAN SUPPLIER SAMPLE NAME                                              \n",
       "CAMP_075_A1                      32644  unidentified           CAMP_075  \\\n",
       "\n",
       "                             BIOSCAN CONTROL TYPE  \n",
       "BIOSCAN SUPPLIER SAMPLE NAME                       \n",
       "CAMP_075_A1                                   NaN  "
      ]
     },
     "execution_count": 2,
     "metadata": {},
     "output_type": "execute_result"
    }
   ],
   "source": [
    "df = pd.read_csv('results/lilys_20240711.tsv', sep='\\t').set_index('BIOSCAN SUPPLIER SAMPLE NAME')\n",
    "df.head(1)"
   ]
  },
  {
   "cell_type": "code",
   "execution_count": 3,
   "id": "26c4f418",
   "metadata": {},
   "outputs": [
    {
     "data": {
      "text/html": [
       "<div>\n",
       "<style scoped>\n",
       "    .dataframe tbody tr th:only-of-type {\n",
       "        vertical-align: middle;\n",
       "    }\n",
       "\n",
       "    .dataframe tbody tr th {\n",
       "        vertical-align: top;\n",
       "    }\n",
       "\n",
       "    .dataframe thead th {\n",
       "        text-align: right;\n",
       "    }\n",
       "</style>\n",
       "<table border=\"1\" class=\"dataframe\">\n",
       "  <thead>\n",
       "    <tr style=\"text-align: right;\">\n",
       "      <th></th>\n",
       "      <th>SERIES</th>\n",
       "      <th>CATCH_LOT</th>\n",
       "      <th>RACK_OR_PLATE_ID</th>\n",
       "      <th>TUBE_OR_WELL_ID</th>\n",
       "      <th>ORGANISM_PART</th>\n",
       "      <th>PRESERVATIVE_SOLUTION</th>\n",
       "      <th>CATCH_SOLUTION</th>\n",
       "      <th>BOTTLE_DIRECTION</th>\n",
       "      <th>DATE_OF_COLLECTION</th>\n",
       "      <th>COUNTRY_OF_COLLECTION</th>\n",
       "      <th>...</th>\n",
       "      <th>ELEVATION</th>\n",
       "      <th>OTHER_INFORMATION</th>\n",
       "      <th>IDENTIFIED_BY</th>\n",
       "      <th>SCIENTIFIC_NAME</th>\n",
       "      <th>TAXON_ID</th>\n",
       "      <th>GAL</th>\n",
       "      <th>SYMBIONT</th>\n",
       "      <th>REGULATORY_COMPLIANCE</th>\n",
       "      <th>HAZARD_GROUP</th>\n",
       "      <th>CONTRIBUTORS</th>\n",
       "    </tr>\n",
       "    <tr>\n",
       "      <th>SPECIMEN_ID</th>\n",
       "      <th></th>\n",
       "      <th></th>\n",
       "      <th></th>\n",
       "      <th></th>\n",
       "      <th></th>\n",
       "      <th></th>\n",
       "      <th></th>\n",
       "      <th></th>\n",
       "      <th></th>\n",
       "      <th></th>\n",
       "      <th></th>\n",
       "      <th></th>\n",
       "      <th></th>\n",
       "      <th></th>\n",
       "      <th></th>\n",
       "      <th></th>\n",
       "      <th></th>\n",
       "      <th></th>\n",
       "      <th></th>\n",
       "      <th></th>\n",
       "      <th></th>\n",
       "    </tr>\n",
       "  </thead>\n",
       "  <tbody>\n",
       "    <tr>\n",
       "      <th>CARM_040_A1</th>\n",
       "      <td>1</td>\n",
       "      <td>C043A</td>\n",
       "      <td>CARM_040</td>\n",
       "      <td>A1</td>\n",
       "      <td>WHOLE_ORGANISM</td>\n",
       "      <td>100%_ETHANOL</td>\n",
       "      <td>100%_ETHANOL</td>\n",
       "      <td>N</td>\n",
       "      <td>2023-11-01</td>\n",
       "      <td>UNITED KINGDOM</td>\n",
       "      <td>...</td>\n",
       "      <td>NaN</td>\n",
       "      <td>NaN</td>\n",
       "      <td>NaN</td>\n",
       "      <td>unidentified</td>\n",
       "      <td>32644</td>\n",
       "      <td>SUFFOLK WILDLIFE TRUST (CARLTON MARSHES)</td>\n",
       "      <td>TARGET</td>\n",
       "      <td>Y</td>\n",
       "      <td>HG1</td>\n",
       "      <td>Belinda Betts;Suffolk Wildlife Trust;Belinda.B...</td>\n",
       "    </tr>\n",
       "  </tbody>\n",
       "</table>\n",
       "<p>1 rows × 45 columns</p>\n",
       "</div>"
      ],
      "text/plain": [
       "             SERIES CATCH_LOT RACK_OR_PLATE_ID TUBE_OR_WELL_ID   \n",
       "SPECIMEN_ID                                                      \n",
       "CARM_040_A1       1     C043A         CARM_040              A1  \\\n",
       "\n",
       "              ORGANISM_PART PRESERVATIVE_SOLUTION CATCH_SOLUTION   \n",
       "SPECIMEN_ID                                                        \n",
       "CARM_040_A1  WHOLE_ORGANISM          100%_ETHANOL   100%_ETHANOL  \\\n",
       "\n",
       "            BOTTLE_DIRECTION DATE_OF_COLLECTION COUNTRY_OF_COLLECTION  ...   \n",
       "SPECIMEN_ID                                                            ...   \n",
       "CARM_040_A1                N         2023-11-01        UNITED KINGDOM  ...  \\\n",
       "\n",
       "            ELEVATION  OTHER_INFORMATION  IDENTIFIED_BY SCIENTIFIC_NAME   \n",
       "SPECIMEN_ID                                                               \n",
       "CARM_040_A1       NaN                NaN            NaN    unidentified  \\\n",
       "\n",
       "            TAXON_ID                                       GAL SYMBIONT   \n",
       "SPECIMEN_ID                                                               \n",
       "CARM_040_A1    32644  SUFFOLK WILDLIFE TRUST (CARLTON MARSHES)   TARGET  \\\n",
       "\n",
       "            REGULATORY_COMPLIANCE HAZARD_GROUP   \n",
       "SPECIMEN_ID                                      \n",
       "CARM_040_A1                     Y          HG1  \\\n",
       "\n",
       "                                                  CONTRIBUTORS  \n",
       "SPECIMEN_ID                                                     \n",
       "CARM_040_A1  Belinda Betts;Suffolk Wildlife Trust;Belinda.B...  \n",
       "\n",
       "[1 rows x 45 columns]"
      ]
     },
     "execution_count": 3,
     "metadata": {},
     "output_type": "execute_result"
    }
   ],
   "source": [
    "partner_df = pd.read_excel('results/CARM_2407_BIOSCAN_Manifest_V3_0.3.2dev_for_sts.xlsx')\n",
    "partner_df = partner_df.set_index('SPECIMEN_ID')\n",
    "partner_df.head(1)"
   ]
  },
  {
   "cell_type": "code",
   "execution_count": 4,
   "id": "e02f16b5",
   "metadata": {},
   "outputs": [
    {
     "data": {
      "text/plain": [
       "576"
      ]
     },
     "execution_count": 4,
     "metadata": {},
     "output_type": "execute_result"
    }
   ],
   "source": [
    "patch_samples = df.index.isin(partner_df.index)\n",
    "patch_samples.sum()"
   ]
  },
  {
   "cell_type": "code",
   "execution_count": 5,
   "id": "e6f18df7",
   "metadata": {},
   "outputs": [
    {
     "data": {
      "text/plain": [
       "COMMON NAME\n",
       "unidentified    576\n",
       "Name: count, dtype: int64"
      ]
     },
     "execution_count": 5,
     "metadata": {},
     "output_type": "execute_result"
    }
   ],
   "source": [
    "df.loc[patch_samples, 'COMMON NAME'].value_counts()"
   ]
  },
  {
   "cell_type": "code",
   "execution_count": 6,
   "id": "387d5886",
   "metadata": {},
   "outputs": [
    {
     "data": {
      "text/plain": [
       "COMMON NAME\n",
       "unidentified    564\n",
       "blank sample     12\n",
       "Name: count, dtype: int64"
      ]
     },
     "execution_count": 6,
     "metadata": {},
     "output_type": "execute_result"
    }
   ],
   "source": [
    "df.loc[patch_samples, 'COMMON NAME'] = partner_df['SCIENTIFIC_NAME']\n",
    "df.loc[patch_samples, 'COMMON NAME'].value_counts()"
   ]
  },
  {
   "cell_type": "code",
   "execution_count": 7,
   "id": "b0f23f70",
   "metadata": {},
   "outputs": [
    {
     "data": {
      "text/plain": [
       "TAXON ID\n",
       "32644    576\n",
       "Name: count, dtype: int64"
      ]
     },
     "execution_count": 7,
     "metadata": {},
     "output_type": "execute_result"
    }
   ],
   "source": [
    "df.loc[patch_samples, 'TAXON ID'].value_counts()"
   ]
  },
  {
   "cell_type": "code",
   "execution_count": 8,
   "id": "3b6b9074",
   "metadata": {},
   "outputs": [
    {
     "data": {
      "text/plain": [
       "TAXON ID\n",
       "32644      564\n",
       "2582415     12\n",
       "Name: count, dtype: int64"
      ]
     },
     "execution_count": 8,
     "metadata": {},
     "output_type": "execute_result"
    }
   ],
   "source": [
    "df.loc[patch_samples, 'TAXON ID'] = partner_df['TAXON_ID']\n",
    "df.loc[patch_samples, 'TAXON ID'].value_counts()"
   ]
  },
  {
   "cell_type": "code",
   "execution_count": 12,
   "id": "780991a8",
   "metadata": {},
   "outputs": [
    {
     "data": {
      "text/html": [
       "<div>\n",
       "<style scoped>\n",
       "    .dataframe tbody tr th:only-of-type {\n",
       "        vertical-align: middle;\n",
       "    }\n",
       "\n",
       "    .dataframe tbody tr th {\n",
       "        vertical-align: top;\n",
       "    }\n",
       "\n",
       "    .dataframe thead th {\n",
       "        text-align: right;\n",
       "    }\n",
       "</style>\n",
       "<table border=\"1\" class=\"dataframe\">\n",
       "  <thead>\n",
       "    <tr style=\"text-align: right;\">\n",
       "      <th></th>\n",
       "      <th>BIOSCAN SUPPLIER SAMPLE NAME</th>\n",
       "      <th>RETENTION INSTRUCTION</th>\n",
       "      <th>COHORT</th>\n",
       "      <th>COUNTRY OF ORIGIN</th>\n",
       "      <th>DATE OF SAMPLE COLLECTION</th>\n",
       "      <th>TAXON ID</th>\n",
       "      <th>COMMON NAME</th>\n",
       "      <th>SAMPLE DESCRIPTION</th>\n",
       "      <th>BIOSCAN CONTROL TYPE</th>\n",
       "    </tr>\n",
       "  </thead>\n",
       "  <tbody>\n",
       "    <tr>\n",
       "      <th>0</th>\n",
       "      <td>CAMP_075_A1</td>\n",
       "      <td>Return to customer after 2 years</td>\n",
       "      <td>CAMP</td>\n",
       "      <td>United Kingdom</td>\n",
       "      <td>2024</td>\n",
       "      <td>32644</td>\n",
       "      <td>unidentified</td>\n",
       "      <td>CAMP_075</td>\n",
       "      <td>NaN</td>\n",
       "    </tr>\n",
       "  </tbody>\n",
       "</table>\n",
       "</div>"
      ],
      "text/plain": [
       "  BIOSCAN SUPPLIER SAMPLE NAME             RETENTION INSTRUCTION COHORT   \n",
       "0                  CAMP_075_A1  Return to customer after 2 years   CAMP  \\\n",
       "\n",
       "  COUNTRY OF ORIGIN  DATE OF SAMPLE COLLECTION  TAXON ID   COMMON NAME   \n",
       "0    United Kingdom                       2024     32644  unidentified  \\\n",
       "\n",
       "  SAMPLE DESCRIPTION BIOSCAN CONTROL TYPE  \n",
       "0           CAMP_075                  NaN  "
      ]
     },
     "execution_count": 12,
     "metadata": {},
     "output_type": "execute_result"
    }
   ],
   "source": [
    "df = df.reset_index()\n",
    "df.head(1)"
   ]
  },
  {
   "cell_type": "code",
   "execution_count": 14,
   "id": "98ce053e",
   "metadata": {},
   "outputs": [
    {
     "data": {
      "text/plain": [
       "6"
      ]
     },
     "execution_count": 14,
     "metadata": {},
     "output_type": "execute_result"
    }
   ],
   "source": [
    "patch_names = patch_samples & \\\n",
    "    (df['COMMON NAME'] == 'blank sample') & \\\n",
    "    ~df['BIOSCAN SUPPLIER SAMPLE NAME'].str.endswith('_G12')\n",
    "patch_names.sum()"
   ]
  },
  {
   "cell_type": "code",
   "execution_count": 16,
   "id": "ecd0c824",
   "metadata": {},
   "outputs": [
    {
     "data": {
      "text/html": [
       "<div>\n",
       "<style scoped>\n",
       "    .dataframe tbody tr th:only-of-type {\n",
       "        vertical-align: middle;\n",
       "    }\n",
       "\n",
       "    .dataframe tbody tr th {\n",
       "        vertical-align: top;\n",
       "    }\n",
       "\n",
       "    .dataframe thead th {\n",
       "        text-align: right;\n",
       "    }\n",
       "</style>\n",
       "<table border=\"1\" class=\"dataframe\">\n",
       "  <thead>\n",
       "    <tr style=\"text-align: right;\">\n",
       "      <th></th>\n",
       "      <th>BIOSCAN SUPPLIER SAMPLE NAME</th>\n",
       "      <th>RETENTION INSTRUCTION</th>\n",
       "      <th>COHORT</th>\n",
       "      <th>COUNTRY OF ORIGIN</th>\n",
       "      <th>DATE OF SAMPLE COLLECTION</th>\n",
       "      <th>TAXON ID</th>\n",
       "      <th>COMMON NAME</th>\n",
       "      <th>SAMPLE DESCRIPTION</th>\n",
       "      <th>BIOSCAN CONTROL TYPE</th>\n",
       "    </tr>\n",
       "  </thead>\n",
       "  <tbody>\n",
       "    <tr>\n",
       "      <th>191</th>\n",
       "      <td>CONTROL_NEG_LYSATE_CARM_032_H12</td>\n",
       "      <td>Return to customer after 2 years</td>\n",
       "      <td>CARM</td>\n",
       "      <td>United Kingdom</td>\n",
       "      <td>2024</td>\n",
       "      <td>2582415</td>\n",
       "      <td>blank sample</td>\n",
       "      <td>CARM_032</td>\n",
       "      <td>NaN</td>\n",
       "    </tr>\n",
       "    <tr>\n",
       "      <th>287</th>\n",
       "      <td>CONTROL_NEG_LYSATE_CARM_033_H12</td>\n",
       "      <td>Return to customer after 2 years</td>\n",
       "      <td>CARM</td>\n",
       "      <td>United Kingdom</td>\n",
       "      <td>2024</td>\n",
       "      <td>2582415</td>\n",
       "      <td>blank sample</td>\n",
       "      <td>CARM_033</td>\n",
       "      <td>NaN</td>\n",
       "    </tr>\n",
       "    <tr>\n",
       "      <th>383</th>\n",
       "      <td>CONTROL_NEG_LYSATE_CARM_034_H12</td>\n",
       "      <td>Return to customer after 2 years</td>\n",
       "      <td>CARM</td>\n",
       "      <td>United Kingdom</td>\n",
       "      <td>2024</td>\n",
       "      <td>2582415</td>\n",
       "      <td>blank sample</td>\n",
       "      <td>CARM_034</td>\n",
       "      <td>NaN</td>\n",
       "    </tr>\n",
       "    <tr>\n",
       "      <th>479</th>\n",
       "      <td>CONTROL_NEG_LYSATE_CARM_035_H12</td>\n",
       "      <td>Return to customer after 2 years</td>\n",
       "      <td>CARM</td>\n",
       "      <td>United Kingdom</td>\n",
       "      <td>2024</td>\n",
       "      <td>2582415</td>\n",
       "      <td>blank sample</td>\n",
       "      <td>CARM_035</td>\n",
       "      <td>NaN</td>\n",
       "    </tr>\n",
       "    <tr>\n",
       "      <th>575</th>\n",
       "      <td>CONTROL_NEG_LYSATE_CARM_036_H12</td>\n",
       "      <td>Return to customer after 2 years</td>\n",
       "      <td>CARM</td>\n",
       "      <td>United Kingdom</td>\n",
       "      <td>2024</td>\n",
       "      <td>2582415</td>\n",
       "      <td>blank sample</td>\n",
       "      <td>CARM_036</td>\n",
       "      <td>NaN</td>\n",
       "    </tr>\n",
       "    <tr>\n",
       "      <th>671</th>\n",
       "      <td>CONTROL_NEG_LYSATE_CARM_037_H12</td>\n",
       "      <td>Return to customer after 2 years</td>\n",
       "      <td>CARM</td>\n",
       "      <td>United Kingdom</td>\n",
       "      <td>2024</td>\n",
       "      <td>2582415</td>\n",
       "      <td>blank sample</td>\n",
       "      <td>CARM_037</td>\n",
       "      <td>NaN</td>\n",
       "    </tr>\n",
       "  </tbody>\n",
       "</table>\n",
       "</div>"
      ],
      "text/plain": [
       "        BIOSCAN SUPPLIER SAMPLE NAME             RETENTION INSTRUCTION COHORT   \n",
       "191  CONTROL_NEG_LYSATE_CARM_032_H12  Return to customer after 2 years   CARM  \\\n",
       "287  CONTROL_NEG_LYSATE_CARM_033_H12  Return to customer after 2 years   CARM   \n",
       "383  CONTROL_NEG_LYSATE_CARM_034_H12  Return to customer after 2 years   CARM   \n",
       "479  CONTROL_NEG_LYSATE_CARM_035_H12  Return to customer after 2 years   CARM   \n",
       "575  CONTROL_NEG_LYSATE_CARM_036_H12  Return to customer after 2 years   CARM   \n",
       "671  CONTROL_NEG_LYSATE_CARM_037_H12  Return to customer after 2 years   CARM   \n",
       "\n",
       "    COUNTRY OF ORIGIN  DATE OF SAMPLE COLLECTION  TAXON ID   COMMON NAME   \n",
       "191    United Kingdom                       2024   2582415  blank sample  \\\n",
       "287    United Kingdom                       2024   2582415  blank sample   \n",
       "383    United Kingdom                       2024   2582415  blank sample   \n",
       "479    United Kingdom                       2024   2582415  blank sample   \n",
       "575    United Kingdom                       2024   2582415  blank sample   \n",
       "671    United Kingdom                       2024   2582415  blank sample   \n",
       "\n",
       "    SAMPLE DESCRIPTION BIOSCAN CONTROL TYPE  \n",
       "191           CARM_032                  NaN  \n",
       "287           CARM_033                  NaN  \n",
       "383           CARM_034                  NaN  \n",
       "479           CARM_035                  NaN  \n",
       "575           CARM_036                  NaN  \n",
       "671           CARM_037                  NaN  "
      ]
     },
     "execution_count": 16,
     "metadata": {},
     "output_type": "execute_result"
    }
   ],
   "source": [
    "df.loc[\n",
    "    patch_names, \n",
    "    'BIOSCAN SUPPLIER SAMPLE NAME'\n",
    "    ] = 'CONTROL_NEG_LYSATE_' + df['BIOSCAN SUPPLIER SAMPLE NAME']\n",
    "df.loc[patch_names]"
   ]
  },
  {
   "cell_type": "code",
   "execution_count": 19,
   "id": "86005464",
   "metadata": {},
   "outputs": [
    {
     "data": {
      "text/plain": [
       "BIOSCAN CONTROL TYPE\n",
       "NaN                570\n",
       "lysate negative      6\n",
       "Name: count, dtype: int64"
      ]
     },
     "execution_count": 19,
     "metadata": {},
     "output_type": "execute_result"
    }
   ],
   "source": [
    "patch_control = patch_names & df['BIOSCAN SUPPLIER SAMPLE NAME'].str.endswith('_H12')\n",
    "df.loc[\n",
    "    patch_names, \n",
    "    'BIOSCAN CONTROL TYPE'\n",
    "    ] = 'lysate negative'\n",
    "df.loc[patch_samples, 'BIOSCAN CONTROL TYPE'].value_counts(dropna=False)"
   ]
  },
  {
   "cell_type": "code",
   "execution_count": 21,
   "id": "333b2547",
   "metadata": {},
   "outputs": [],
   "source": [
    "df.to_csv('results/lilys_20240711_patched.tsv', sep='\\t', index=False)"
   ]
  },
  {
   "cell_type": "code",
   "execution_count": null,
   "id": "93258b98",
   "metadata": {},
   "outputs": [],
   "source": []
  }
 ],
 "metadata": {
  "kernelspec": {
   "display_name": "Python 3 (ipykernel)",
   "language": "python",
   "name": "python3"
  },
  "language_info": {
   "codemirror_mode": {
    "name": "ipython",
    "version": 3
   },
   "file_extension": ".py",
   "mimetype": "text/x-python",
   "name": "python",
   "nbconvert_exporter": "python",
   "pygments_lexer": "ipython3",
   "version": "3.10.11"
  }
 },
 "nbformat": 4,
 "nbformat_minor": 5
}
